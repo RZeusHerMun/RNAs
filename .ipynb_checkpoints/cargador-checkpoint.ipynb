{
 "cells": [
  {
   "cell_type": "code",
   "execution_count": 1,
   "id": "ef8fe62f",
   "metadata": {},
   "outputs": [],
   "source": [
    "import pickle\n",
    "import gzip\n",
    "import numpy as np"
   ]
  },
  {
   "cell_type": "code",
   "execution_count": 2,
   "id": "f050330f",
   "metadata": {},
   "outputs": [],
   "source": [
    "def load_data(): # Esta función desencripta los datos, los organiza en listas y los codifica en un formato específico. \n",
    "    f = gzip.open('mnist.pkl.gz', 'rb')\n",
    "    training_data, validation_data, test_data = pickle.load(f, encoding=\"latin1\")\n",
    "    f.close()\n",
    "    return (training_data, validation_data, test_data)"
   ]
  },
  {
   "cell_type": "code",
   "execution_count": 3,
   "id": "dc4f2dd4",
   "metadata": {},
   "outputs": [],
   "source": [
    "def load_data_wrapper(): # Con esta función vamos a organizar nuestros datos en las matrices que necesitamos\n",
    "    tr_d, va_d, te_d = load_data() # usamos diminutivos para las listas\n",
    "    \n",
    "    training_inputs = [np.reshape(x, (784, 1)) for x in tr_d[0]] # Creamos una matriz de 2*784, para organizar los TrainigData. En una columna están el pixel de entrada y en otro su valor leido del mnist.\n",
    "    training_results = [vectorized_result(y) for y in tr_d[1]] # Creamos el vector de las neuronas de salida.\n",
    "    training_data = zip(training_inputs, training_results) # unimos las dos listas que se crearon en los pasos anteriores.\n",
    "    \n",
    "    validation_inputs = [np.reshape(x, (784, 1)) for x in va_d[0]] # creamos la matriz donde van los datos de validación de entrada igual que los TrainingData.\n",
    "    validation_data = zip(validation_inputs, va_d[1]) # Le ponemos en la segunda columna, los datos leídos del mnist.\n",
    "    \n",
    "    test_inputs = [np.reshape(x, (784, 1)) for x in te_d[0]] # lo mismo para los datos de prueba que en los pasos anteriores.\n",
    "    test_data = zip(test_inputs, te_d[1])\n",
    "    \n",
    "    return (training_data, validation_data, test_data) #damos las matrices creadas."
   ]
  },
  {
   "cell_type": "code",
   "execution_count": 4,
   "id": "7ff7cbc9",
   "metadata": {},
   "outputs": [],
   "source": [
    "def vectorized_result(j): # Establecemos una función que nos dé el vector donde se alojarán los números del 0 al 9, que serán las neuronas de salida.\n",
    "    e = np.zeros((10, 1))\n",
    "    e[j] = 1.0\n",
    "    return e\n"
   ]
  },
  {
   "cell_type": "code",
   "execution_count": null,
   "id": "93232c89",
   "metadata": {},
   "outputs": [],
   "source": []
  }
 ],
 "metadata": {
  "kernelspec": {
   "display_name": "Python 3 (ipykernel)",
   "language": "python",
   "name": "python3"
  },
  "language_info": {
   "codemirror_mode": {
    "name": "ipython",
    "version": 3
   },
   "file_extension": ".py",
   "mimetype": "text/x-python",
   "name": "python",
   "nbconvert_exporter": "python",
   "pygments_lexer": "ipython3",
   "version": "3.9.13"
  }
 },
 "nbformat": 4,
 "nbformat_minor": 5
}
