{
 "cells": [
  {
   "cell_type": "code",
   "execution_count": 1,
   "id": "83df7548",
   "metadata": {},
   "outputs": [],
   "source": [
    "import tensorflow as tf\n",
    "from tensorflow import keras \n",
    "from tensorflow.keras.datasets import mnist\n",
    "from tensorflow.keras.models import Sequential\n",
    "from tensorflow.keras.layers import Dense, Dropout, Activation\n",
    "from tensorflow.keras.optimizers import RMSprop, SGD\n",
    "from tensorflow.keras import regularizers\n",
    "import numpy as np"
   ]
  },
  {
   "cell_type": "code",
   "execution_count": 2,
   "id": "1df76867",
   "metadata": {},
   "outputs": [],
   "source": [
    "learning_rate = 0.001\n",
    "epochs = 30 \n",
    "batch_size = 120\n",
    "\n",
    "dataset = mnist.load_data()\n",
    "(x_train, y_train), (x_test, y_test) = dataset\n",
    "\n",
    "x_trainv = x_train.reshape(60000, 784)\n",
    "x_testv = x_test.reshape(10000, 784)\n",
    "x_trainv = x_trainv.astype('float32')\n",
    "x_testv = x_testv.astype('float32')\n",
    "\n",
    "x_trainv /= 225\n",
    "x_testv /= 225 # tenía un error \n",
    "\n",
    "num_classes = 10\n",
    "y_trainc = keras.utils.to_categorical(y_train, num_classes)\n",
    "y_testc = keras.utils.to_categorical(y_test, num_classes)"
   ]
  },
  {
   "cell_type": "code",
   "execution_count": 3,
   "id": "4a215779",
   "metadata": {},
   "outputs": [
    {
     "name": "stdout",
     "output_type": "stream",
     "text": [
      "Model: \"sequential\"\n",
      "_________________________________________________________________\n",
      " Layer (type)                Output Shape              Param #   \n",
      "=================================================================\n",
      " dense (Dense)               (None, 512)               401920    \n",
      "                                                                 \n",
      " dense_1 (Dense)             (None, 10)                5130      \n",
      "                                                                 \n",
      "=================================================================\n",
      "Total params: 407050 (1.55 MB)\n",
      "Trainable params: 407050 (1.55 MB)\n",
      "Non-trainable params: 0 (0.00 Byte)\n",
      "_________________________________________________________________\n"
     ]
    }
   ],
   "source": [
    "model = Sequential()\n",
    "model.add(Dense(512, activation='sigmoid', input_shape=(784,)))\n",
    "model.add(Dense(num_classes, activation='sigmoid'))\n",
    "\n",
    "model.summary()"
   ]
  },
  {
   "cell_type": "code",
   "execution_count": 4,
   "id": "723cb69d",
   "metadata": {},
   "outputs": [],
   "source": [
    "model.compile(loss='categorical_crossentropy', optimizer=SGD(learning_rate=learning_rate), metrics=['accuracy'])\n"
   ]
  },
  {
   "cell_type": "code",
   "execution_count": 5,
   "id": "050fed3a",
   "metadata": {},
   "outputs": [
    {
     "name": "stdout",
     "output_type": "stream",
     "text": [
      "Epoch 1/30\n",
      "500/500 [==============================] - 4s 7ms/step - loss: 2.2610 - accuracy: 0.2257 - val_loss: 2.1920 - val_accuracy: 0.3620\n",
      "Epoch 2/30\n",
      "500/500 [==============================] - 3s 7ms/step - loss: 2.1436 - accuracy: 0.4186 - val_loss: 2.0894 - val_accuracy: 0.4992\n",
      "Epoch 3/30\n",
      "500/500 [==============================] - 3s 6ms/step - loss: 2.0460 - accuracy: 0.5365 - val_loss: 1.9923 - val_accuracy: 0.5884\n",
      "Epoch 4/30\n",
      "500/500 [==============================] - 3s 7ms/step - loss: 1.9534 - accuracy: 0.6073 - val_loss: 1.9005 - val_accuracy: 0.6511\n",
      "Epoch 5/30\n",
      "500/500 [==============================] - 3s 7ms/step - loss: 1.8656 - accuracy: 0.6561 - val_loss: 1.8135 - val_accuracy: 0.6802\n",
      "Epoch 6/30\n",
      "500/500 [==============================] - 3s 7ms/step - loss: 1.7823 - accuracy: 0.6821 - val_loss: 1.7308 - val_accuracy: 0.7214\n",
      "Epoch 7/30\n",
      "500/500 [==============================] - 4s 7ms/step - loss: 1.7034 - accuracy: 0.7101 - val_loss: 1.6527 - val_accuracy: 0.7213\n",
      "Epoch 8/30\n",
      "500/500 [==============================] - 4s 7ms/step - loss: 1.6288 - accuracy: 0.7230 - val_loss: 1.5791 - val_accuracy: 0.7488\n",
      "Epoch 9/30\n",
      "500/500 [==============================] - 4s 7ms/step - loss: 1.5583 - accuracy: 0.7390 - val_loss: 1.5095 - val_accuracy: 0.7625\n",
      "Epoch 10/30\n",
      "500/500 [==============================] - 4s 8ms/step - loss: 1.4920 - accuracy: 0.7531 - val_loss: 1.4443 - val_accuracy: 0.7641\n",
      "Epoch 11/30\n",
      "500/500 [==============================] - 4s 7ms/step - loss: 1.4297 - accuracy: 0.7598 - val_loss: 1.3829 - val_accuracy: 0.7786\n",
      "Epoch 12/30\n",
      "500/500 [==============================] - 3s 7ms/step - loss: 1.3713 - accuracy: 0.7703 - val_loss: 1.3259 - val_accuracy: 0.7772\n",
      "Epoch 13/30\n",
      "500/500 [==============================] - 4s 7ms/step - loss: 1.3168 - accuracy: 0.7765 - val_loss: 1.2726 - val_accuracy: 0.7905\n",
      "Epoch 14/30\n",
      "500/500 [==============================] - 4s 7ms/step - loss: 1.2659 - accuracy: 0.7841 - val_loss: 1.2227 - val_accuracy: 0.7948\n",
      "Epoch 15/30\n",
      "500/500 [==============================] - 4s 7ms/step - loss: 1.2185 - accuracy: 0.7895 - val_loss: 1.1765 - val_accuracy: 0.8009\n",
      "Epoch 16/30\n",
      "500/500 [==============================] - 4s 7ms/step - loss: 1.1744 - accuracy: 0.7950 - val_loss: 1.1334 - val_accuracy: 0.8056\n",
      "Epoch 17/30\n",
      "500/500 [==============================] - 4s 7ms/step - loss: 1.1334 - accuracy: 0.8001 - val_loss: 1.0935 - val_accuracy: 0.8090\n",
      "Epoch 18/30\n",
      "500/500 [==============================] - 4s 7ms/step - loss: 1.0953 - accuracy: 0.8032 - val_loss: 1.0566 - val_accuracy: 0.8149\n",
      "Epoch 19/30\n",
      "500/500 [==============================] - 4s 7ms/step - loss: 1.0599 - accuracy: 0.8088 - val_loss: 1.0222 - val_accuracy: 0.8172\n",
      "Epoch 20/30\n",
      "500/500 [==============================] - 4s 7ms/step - loss: 1.0269 - accuracy: 0.8129 - val_loss: 0.9903 - val_accuracy: 0.8204\n",
      "Epoch 21/30\n",
      "500/500 [==============================] - 3s 7ms/step - loss: 0.9962 - accuracy: 0.8161 - val_loss: 0.9604 - val_accuracy: 0.8255\n",
      "Epoch 22/30\n",
      "500/500 [==============================] - 4s 7ms/step - loss: 0.9678 - accuracy: 0.8189 - val_loss: 0.9327 - val_accuracy: 0.8288\n",
      "Epoch 23/30\n",
      "500/500 [==============================] - 4s 7ms/step - loss: 0.9412 - accuracy: 0.8226 - val_loss: 0.9069 - val_accuracy: 0.8310\n",
      "Epoch 24/30\n",
      "500/500 [==============================] - 4s 7ms/step - loss: 0.9164 - accuracy: 0.8247 - val_loss: 0.8830 - val_accuracy: 0.8345\n",
      "Epoch 25/30\n",
      "500/500 [==============================] - 4s 7ms/step - loss: 0.8933 - accuracy: 0.8283 - val_loss: 0.8606 - val_accuracy: 0.8358\n",
      "Epoch 26/30\n",
      "500/500 [==============================] - 4s 7ms/step - loss: 0.8716 - accuracy: 0.8297 - val_loss: 0.8395 - val_accuracy: 0.8405\n",
      "Epoch 27/30\n",
      "500/500 [==============================] - 4s 7ms/step - loss: 0.8514 - accuracy: 0.8323 - val_loss: 0.8200 - val_accuracy: 0.8413\n",
      "Epoch 28/30\n",
      "500/500 [==============================] - 4s 7ms/step - loss: 0.8323 - accuracy: 0.8339 - val_loss: 0.8012 - val_accuracy: 0.8424\n",
      "Epoch 29/30\n",
      "500/500 [==============================] - 4s 7ms/step - loss: 0.8145 - accuracy: 0.8363 - val_loss: 0.7841 - val_accuracy: 0.8455\n",
      "Epoch 30/30\n",
      "500/500 [==============================] - 3s 7ms/step - loss: 0.7977 - accuracy: 0.8376 - val_loss: 0.7676 - val_accuracy: 0.8478\n"
     ]
    }
   ],
   "source": [
    "history = model.fit(x_trainv, y_trainc,\n",
    "                    batch_size=batch_size,\n",
    "                    epochs=epochs,\n",
    "                    verbose=1,\n",
    "                    validation_data=(x_testv, y_testc)\n",
    "                    )"
   ]
  },
  {
   "cell_type": "markdown",
   "id": "81203bf2",
   "metadata": {},
   "source": [
    "# Ahora recreamos la red como la básica que teníamos:"
   ]
  },
  {
   "cell_type": "code",
   "execution_count": 9,
   "id": "bc40722a",
   "metadata": {},
   "outputs": [
    {
     "name": "stdout",
     "output_type": "stream",
     "text": [
      "Model: \"sequential_3\"\n",
      "_________________________________________________________________\n",
      " Layer (type)                Output Shape              Param #   \n",
      "=================================================================\n",
      " dense_6 (Dense)             (None, 30)                23550     \n",
      "                                                                 \n",
      " dense_7 (Dense)             (None, 10)                310       \n",
      "                                                                 \n",
      "=================================================================\n",
      "Total params: 23860 (93.20 KB)\n",
      "Trainable params: 23860 (93.20 KB)\n",
      "Non-trainable params: 0 (0.00 Byte)\n",
      "_________________________________________________________________\n",
      "Epoch 1/15\n",
      "6000/6000 [==============================] - 11s 2ms/step - loss: 0.2049 - accuracy: 0.7344 - val_loss: 0.1320 - val_accuracy: 0.8521\n",
      "Epoch 2/15\n",
      "6000/6000 [==============================] - 11s 2ms/step - loss: 0.1111 - accuracy: 0.8668 - val_loss: 0.0915 - val_accuracy: 0.8897\n",
      "Epoch 3/15\n",
      "6000/6000 [==============================] - 11s 2ms/step - loss: 0.0850 - accuracy: 0.8914 - val_loss: 0.0750 - val_accuracy: 0.9032\n",
      "Epoch 4/15\n",
      "6000/6000 [==============================] - 11s 2ms/step - loss: 0.0730 - accuracy: 0.9025 - val_loss: 0.0665 - val_accuracy: 0.9127\n",
      "Epoch 5/15\n",
      "6000/6000 [==============================] - 11s 2ms/step - loss: 0.0660 - accuracy: 0.9089 - val_loss: 0.0613 - val_accuracy: 0.9141\n",
      "Epoch 6/15\n",
      "6000/6000 [==============================] - 11s 2ms/step - loss: 0.0613 - accuracy: 0.9137 - val_loss: 0.0572 - val_accuracy: 0.9190\n",
      "Epoch 7/15\n",
      "6000/6000 [==============================] - 10s 2ms/step - loss: 0.0578 - accuracy: 0.9171 - val_loss: 0.0545 - val_accuracy: 0.9233\n",
      "Epoch 8/15\n",
      "6000/6000 [==============================] - 10s 2ms/step - loss: 0.0551 - accuracy: 0.9204 - val_loss: 0.0521 - val_accuracy: 0.9258\n",
      "Epoch 9/15\n",
      "6000/6000 [==============================] - 11s 2ms/step - loss: 0.0529 - accuracy: 0.9233 - val_loss: 0.0505 - val_accuracy: 0.9278\n",
      "Epoch 10/15\n",
      "6000/6000 [==============================] - 11s 2ms/step - loss: 0.0510 - accuracy: 0.9263 - val_loss: 0.0488 - val_accuracy: 0.9293\n",
      "Epoch 11/15\n",
      "6000/6000 [==============================] - 10s 2ms/step - loss: 0.0493 - accuracy: 0.9279 - val_loss: 0.0475 - val_accuracy: 0.9314\n",
      "Epoch 12/15\n",
      "6000/6000 [==============================] - 11s 2ms/step - loss: 0.0479 - accuracy: 0.9298 - val_loss: 0.0461 - val_accuracy: 0.9333\n",
      "Epoch 13/15\n",
      "6000/6000 [==============================] - 11s 2ms/step - loss: 0.0466 - accuracy: 0.9321 - val_loss: 0.0452 - val_accuracy: 0.9338\n",
      "Epoch 14/15\n",
      "6000/6000 [==============================] - 11s 2ms/step - loss: 0.0455 - accuracy: 0.9338 - val_loss: 0.0444 - val_accuracy: 0.9342\n",
      "Epoch 15/15\n",
      "6000/6000 [==============================] - 11s 2ms/step - loss: 0.0444 - accuracy: 0.9356 - val_loss: 0.0433 - val_accuracy: 0.9365\n"
     ]
    },
    {
     "ename": "NameError",
     "evalue": "name 'test_acc' is not defined",
     "output_type": "error",
     "traceback": [
      "\u001b[1;31m---------------------------------------------------------------------------\u001b[0m",
      "\u001b[1;31mNameError\u001b[0m                                 Traceback (most recent call last)",
      "Cell \u001b[1;32mIn[9], line 35\u001b[0m\n\u001b[0;32m     28\u001b[0m history \u001b[38;5;241m=\u001b[39m model\u001b[38;5;241m.\u001b[39mfit(x_trainv, y_trainc,\n\u001b[0;32m     29\u001b[0m                     batch_size\u001b[38;5;241m=\u001b[39mbatch_size,\n\u001b[0;32m     30\u001b[0m                     epochs\u001b[38;5;241m=\u001b[39mepochs,\n\u001b[0;32m     31\u001b[0m                     verbose\u001b[38;5;241m=\u001b[39m\u001b[38;5;241m1\u001b[39m,\n\u001b[0;32m     32\u001b[0m                     validation_data\u001b[38;5;241m=\u001b[39m(x_testv, y_testc)\n\u001b[0;32m     33\u001b[0m                     )\n\u001b[0;32m     34\u001b[0m fin \u001b[38;5;241m=\u001b[39m time\u001b[38;5;241m.\u001b[39mtime()\n\u001b[1;32m---> 35\u001b[0m \u001b[38;5;28mprint\u001b[39m(\u001b[38;5;124m\"\u001b[39m\u001b[38;5;124mEfectividad del modelo: \u001b[39m\u001b[38;5;124m\"\u001b[39m, \u001b[38;5;28mround\u001b[39m((\u001b[43mtest_acc\u001b[49m \u001b[38;5;241m*\u001b[39m \u001b[38;5;241m100\u001b[39m), \u001b[38;5;241m2\u001b[39m), \u001b[38;5;124m\"\u001b[39m\u001b[38;5;124m%\u001b[39m\u001b[38;5;124m\"\u001b[39m)\n\u001b[0;32m     36\u001b[0m \u001b[38;5;28mprint\u001b[39m(\u001b[38;5;124m\"\u001b[39m\u001b[38;5;124mTiempo entrenando: \u001b[39m\u001b[38;5;124m\"\u001b[39m,\u001b[38;5;28mround\u001b[39m(fin\u001b[38;5;241m-\u001b[39minicio, \u001b[38;5;241m4\u001b[39m),\u001b[38;5;124m\"\u001b[39m\u001b[38;5;124ms\u001b[39m\u001b[38;5;124m\"\u001b[39m)\n",
      "\u001b[1;31mNameError\u001b[0m: name 'test_acc' is not defined"
     ]
    }
   ],
   "source": [
    "learning_rate = 0.07 # La original la corrí con los siguientes valores\n",
    "epochs = 15 \n",
    "batch_size = 10\n",
    "\n",
    "dataset = mnist.load_data()\n",
    "(x_train, y_train), (x_test, y_test) = dataset\n",
    "\n",
    "x_trainv = x_train.reshape(60000, 784)\n",
    "x_testv = x_test.reshape(10000, 784)\n",
    "x_trainv = x_trainv.astype('float32')\n",
    "x_testv = x_testv.astype('float32')\n",
    "\n",
    "x_trainv /= 225\n",
    "x_testv /= 225\n",
    "\n",
    "num_classes = 10\n",
    "y_trainc = keras.utils.to_categorical(y_train, num_classes)\n",
    "y_testc = keras.utils.to_categorical(y_test, num_classes)\n",
    " \n",
    "model = Sequential()\n",
    "model.add(Dense(30, activation='sigmoid', input_shape=(784,)))\n",
    "model.add(Dense(num_classes, activation='sigmoid'))\n",
    "\n",
    "model.summary()\n",
    "\n",
    "model.compile(loss='binary_crossentropy', optimizer=SGD(learning_rate=learning_rate), metrics=['accuracy'])\n",
    "inicio = time.time()\n",
    "history = model.fit(x_trainv, y_trainc,\n",
    "                    batch_size=batch_size,\n",
    "                    epochs=epochs,\n",
    "                    verbose=1,\n",
    "                    validation_data=(x_testv, y_testc)\n",
    "                    )\n",
    "fin = time.time()\n",
    "print(\"Efectividad del modelo: \", round((test_acc * 100), 2), \"%\")\n",
    "print(\"Tiempo entrenando: \",round(fin-inicio, 4),\"s\")\n",
    "# La primer red me dió un 72% de efectividad en 135,5 s"
   ]
  },
  {
   "cell_type": "code",
   "execution_count": 11,
   "id": "671a8521",
   "metadata": {},
   "outputs": [
    {
     "name": "stdout",
     "output_type": "stream",
     "text": [
      "Efectividad del modelo:  93.65 %\n",
      "Tiempo entrenando:  162.0917 s\n"
     ]
    }
   ],
   "source": [
    "test_loss, test_acc = model.evaluate(x_testv, y_testc, verbose=0)\n",
    "print(\"Efectividad del modelo: \", round((test_acc * 100), 2), \"%\")\n",
    "print(\"Tiempo entrenando: \",round(fin-inicio, 4),\"s\")"
   ]
  }
 ],
 "metadata": {
  "kernelspec": {
   "display_name": "Python 3 (ipykernel)",
   "language": "python",
   "name": "python3"
  },
  "language_info": {
   "codemirror_mode": {
    "name": "ipython",
    "version": 3
   },
   "file_extension": ".py",
   "mimetype": "text/x-python",
   "name": "python",
   "nbconvert_exporter": "python",
   "pygments_lexer": "ipython3",
   "version": "3.9.13"
  }
 },
 "nbformat": 4,
 "nbformat_minor": 5
}
