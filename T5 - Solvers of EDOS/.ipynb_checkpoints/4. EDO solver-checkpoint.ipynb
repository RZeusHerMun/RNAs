{
 "cells": [
  {
   "cell_type": "code",
   "execution_count": 15,
   "id": "c6fe8102",
   "metadata": {},
   "outputs": [],
   "source": [
    "import tensorflow as tf\n",
    "from tensorflow import keras\n",
    "from tensorflow.keras.models import Sequential\n",
    "from tensorflow.keras.layers import Dense,Dropout,Activation\n",
    "from tensorflow.keras.optimizers import RMSprop, Adam\n",
    "from matplotlib import pyplot as plt\n",
    "import numpy as np"
   ]
  },
  {
   "cell_type": "markdown",
   "id": "9e30bb2a",
   "metadata": {},
   "source": [
    "Para la primer ecuación diferencial que es $xy' + y = x^2$ con $y(0)=0$.\n",
    "Usamos la "
   ]
  },
  {
   "cell_type": "code",
   "execution_count": 16,
   "id": "dd4366e1",
   "metadata": {},
   "outputs": [],
   "source": [
    "class ODEsolver(Sequential):\n",
    "    def __init__(self, **kwargs):\n",
    "        super().__init__(**kwargs)\n",
    "        self.loss_tracker = keras.metrics.Mean(name=\"loss\")\n",
    "        self.mse = tf.keras.losses.MeanSquaredError()\n",
    "\n",
    "    @property\n",
    "    def metrics(self):\n",
    "      return [self.loss_tracker]\n",
    "\n",
    "    def train_step(self, data):\n",
    "         batch_size = tf.shape(data)[0]\n",
    "         min = tf.cast(tf.reduce_min(data),tf.float32)\n",
    "         max = tf.cast(tf.reduce_max(data),tf.float32)\n",
    "         x = tf.random.uniform((batch_size,1), minval=min, maxval=max)\n",
    "\n",
    "         with tf.GradientTape() as tape:\n",
    "             with tf.GradientTape() as tape2:\n",
    "                 tape2.watch(x)\n",
    "                 y_pred = self(x, training=True)\n",
    "             dy = tape2.gradient(y_pred, x) #derivada del modelo con respecto a entradas x\n",
    "             x_o = tf.zeros((batch_size,1)) #valor de x en condicion inicial x_0=0\n",
    "             y_o = self(x_o,training=True) #valor del modelo en en x_0\n",
    "             eq = x*dy + y_pred - x**2 * tf.cos(x) #Ecuacion diferencial evaluada en el modelo. Queremos que sea muy pequeno\n",
    "             ic = 1. \n",
    "             loss = self.mse(0., eq) + self.mse(y_o,ic)\n",
    "\n",
    "         grads = tape.gradient(loss, self.trainable_variables)\n",
    "         self.optimizer.apply_gradients(zip(grads, self.trainable_variables))\n",
    "         self.loss_tracker.update_state(loss)\n",
    "         return {\"loss\": self.loss_tracker.result()}"
   ]
  },
  {
   "cell_type": "code",
   "execution_count": 23,
   "id": "ffa1e00a",
   "metadata": {},
   "outputs": [
    {
     "name": "stdout",
     "output_type": "stream",
     "text": [
      "Model: \"od_esolver_3\"\n",
      "_________________________________________________________________\n",
      " Layer (type)                Output Shape              Param #   \n",
      "=================================================================\n",
      " dense_11 (Dense)            (None, 30)                60        \n",
      "                                                                 \n",
      " dense_12 (Dense)            (None, 1)                 31        \n",
      "                                                                 \n",
      " dense_13 (Dense)            (None, 1)                 2         \n",
      "                                                                 \n",
      "=================================================================\n",
      "Total params: 93 (372.00 Byte)\n",
      "Trainable params: 93 (372.00 Byte)\n",
      "Non-trainable params: 0 (0.00 Byte)\n",
      "_________________________________________________________________\n"
     ]
    }
   ],
   "source": [
    "model = ODEsolver()\n",
    "model.add(Dense(30, activation='tanh', input_shape=(1,)))\n",
    "model.add(Dense(1, activation='tanh'))\n",
    "model.add(Dense(1))\n",
    "model.summary()"
   ]
  },
  {
   "cell_type": "code",
   "execution_count": 24,
   "id": "88ca4d4b",
   "metadata": {},
   "outputs": [
    {
     "data": {
      "text/plain": [
       "[<matplotlib.lines.Line2D at 0x1ba04c31910>]"
      ]
     },
     "execution_count": 24,
     "metadata": {},
     "output_type": "execute_result"
    },
    {
     "data": {
      "image/png": "[encoded data removed]",
      "text/plain": [
       "<Figure size 640x480 with 1 Axes>"
      ]
     },
     "metadata": {},
     "output_type": "display_data"
    }
   ],
   "source": [
    "model.compile(optimizer=RMSprop(),metrics=['loss'])\n",
    "x=tf.linspace(-5,5,1000)\n",
    "history = model.fit(x,epochs=500,verbose=0)\n",
    "plt.plot(history.history[\"loss\"])"
   ]
  },
  {
   "cell_type": "code",
   "execution_count": null,
   "id": "b37267b8",
   "metadata": {},
   "outputs": [],
   "source": [
    "x_testv = tf.linspace(-2,2,1000)\n",
    "a=model.predict(x_testv)\n",
    "plt.plot(x_testv,a,label=\"aprox\")\n",
    "plt.plot(x_testv,np.exp(-x*x),label=\"exact\")\n",
    "plt.legend()\n",
    "plt.show()"
   ]
  },
  {
   "cell_type": "code",
   "execution_count": null,
   "id": "2b753b92",
   "metadata": {},
   "outputs": [],
   "source": []
  }
 ],
 "metadata": {
  "kernelspec": {
   "display_name": "Python 3 (ipykernel)",
   "language": "python",
   "name": "python3"
  },
  "language_info": {
   "codemirror_mode": {
    "name": "ipython",
    "version": 3
   },
   "file_extension": ".py",
   "mimetype": "text/x-python",
   "name": "python",
   "nbconvert_exporter": "python",
   "pygments_lexer": "ipython3",
   "version": "3.9.13"
  }
 },
 "nbformat": 4,
 "nbformat_minor": 5
}
