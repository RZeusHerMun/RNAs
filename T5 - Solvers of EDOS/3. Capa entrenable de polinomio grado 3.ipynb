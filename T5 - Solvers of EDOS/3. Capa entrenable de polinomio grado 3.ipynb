{
 "cells": [
  {
   "cell_type": "markdown",
   "id": "491ac779",
   "metadata": {},
   "source": [
    "Viendo la documentación de keras, encontré que hay una capa personalizada de polinomios. Por lo que la usaremos"
   ]
  },
  {
   "cell_type": "code",
   "execution_count": null,
   "id": "ad2930b8",
   "metadata": {},
   "outputs": [],
   "source": [
    "import tensorflow as tf\n",
    "import tensorflow.keras.layers import Layer\n",
    "\n",
    "class PlynomialLayer(Layer):\n",
    "    def"
   ]
  }
 ],
 "metadata": {
  "kernelspec": {
   "display_name": "Python 3 (ipykernel)",
   "language": "python",
   "name": "python3"
  },
  "language_info": {
   "codemirror_mode": {
    "name": "ipython",
    "version": 3
   },
   "file_extension": ".py",
   "mimetype": "text/x-python",
   "name": "python",
   "nbconvert_exporter": "python",
   "pygments_lexer": "ipython3",
   "version": "3.9.13"
  }
 },
 "nbformat": 4,
 "nbformat_minor": 5
}
