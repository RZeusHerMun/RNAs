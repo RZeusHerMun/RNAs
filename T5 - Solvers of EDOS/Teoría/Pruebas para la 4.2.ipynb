{
 "cells": [
  {
   "cell_type": "code",
   "execution_count": 1,
   "id": "a58b1512",
   "metadata": {},
   "outputs": [],
   "source": [
    "import tensorflow as tf\n",
    "from tensorflow import keras\n",
    "from tensorflow.keras.models import Sequential\n",
    "from tensorflow.keras.layers import Dense, Dropout, Input, Reshape\n",
    "from tensorflow.keras.optimizers import RMSprop, Adam\n",
    "\n",
    "from matplotlib import pyplot as plt\n",
    "import numpy as np"
   ]
  },
  {
   "cell_type": "code",
   "execution_count": null,
   "id": "505957a9",
   "metadata": {},
   "outputs": [],
   "source": [
    "class PDESolver(Sequential):\n",
    "    def __init__(self, **kwargs):\n",
    "        super().__init__(**kwargs)\n",
    "        self.loss_tracker = keras.metrics.Mean(name=\"loss\")\n",
    "        self.mse = tf.keras.losses.MeanSquaredError()\n",
    "\n",
    "    @property\n",
    "    def metrics(self):\n",
    "      return [self.loss_tracker]\n",
    "\n",
    "    def train_step(self, data):\n",
    "        #batch_size=tf.shape(data)[0]\n",
    "        batch_size=10\n",
    "        x = tf.random.uniform((batch_size,1), minval=-5 maxval=5\n",
    "\n",
    "        with tf.GradientTape() as tape:\n",
    "            with tf.GradientTape(persistent=True) as g:\n",
    "                g.watch(x)\n",
    "                with tf.GradientTape() as gg:\n",
    "                    gg.watch(x)\n",
    "                    input = tf.concat((x,t),axis=1)\n",
    "                    y_pred = self(input, training=True)\n",
    "                y_x=gg.gradient(y_pred,x)\n",
    "            y_xx=g.gradient(y_x,x)\n",
    "            \n",
    "            eq = y_xx + y_x\n",
    "            ci1 = 1.0\n",
    "            ci2 = -0.5\n",
    "\n",
    "            t_init = tf.zeros(x.shape)\n",
    "            input_ini = tf.concat((x,t_init),axis=1)\n",
    "            y_init = self(input_ini, training=True)\n",
    "            loss = self.mse(0., eq + self.mse(tf.math.sin(x),y_init)\n",
    "\n",
    "        # Compute grad\n",
    "        grads = tape.gradient(loss, self.trainable_variables)\n",
    "        # Update weights\n",
    "        self.optimizer.apply_gradients(zip(grads, self.trainable_variables))\n",
    "        # Compute our own metrics\n",
    "        self.loss_tracker.update_state(loss)\n",
    "        return {\"loss\": self.loss_tracker.result()}"
   ]
  },
  {
   "cell_type": "code",
   "execution_count": null,
   "id": "2952e203",
   "metadata": {},
   "outputs": [],
   "source": [
    "model = PDESolver()\n",
    "model.add(Dense(100, activation='tanh', input_shape=(2,), name=\"primera\"))\n",
    "model.add(Dense(10, activation='tanh'))\n",
    "model.add(Dense(1, activation='linear'))\n",
    "#model.add(Reshape(()))\n",
    "model.summary()"
   ]
  },
  {
   "cell_type": "code",
   "execution_count": null,
   "id": "5b39b4ad",
   "metadata": {},
   "outputs": [],
   "source": [
    "model.compile(optimizer=\"adam\")"
   ]
  },
  {
   "cell_type": "code",
   "execution_count": null,
   "id": "c1f42654",
   "metadata": {},
   "outputs": [],
   "source": [
    "x = tf.random.uniform((10,1), minval=0, maxval=10)\n",
    "t = tf.random.uniform((10,1),minval=0,maxval=15)\n",
    "input = tf.concat((x,t),axis=1)\n",
    "history = model.fit(input,epochs=500,verbose=0)\n",
    "plt.plot(history.history[\"loss\"])"
   ]
  }
 ],
 "metadata": {
  "kernelspec": {
   "display_name": "Python 3 (ipykernel)",
   "language": "python",
   "name": "python3"
  },
  "language_info": {
   "codemirror_mode": {
    "name": "ipython",
    "version": 3
   },
   "file_extension": ".py",
   "mimetype": "text/x-python",
   "name": "python",
   "nbconvert_exporter": "python",
   "pygments_lexer": "ipython3",
   "version": "3.9.13"
  }
 },
 "nbformat": 4,
 "nbformat_minor": 5
}
