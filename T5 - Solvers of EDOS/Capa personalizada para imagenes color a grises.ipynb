{
 "cells": [
  {
   "cell_type": "code",
   "execution_count": 2,
   "id": "19fca229",
   "metadata": {},
   "outputs": [],
   "source": [
    "import tensorflow as tf\n",
    "from tensorflow import keras\n",
    "from keras.layers import Layer\n",
    "class Colores(Layer):\n",
    "    \n",
    "    def __init__(self, **kwargs):\n",
    "        super(Colores, self).__init__(**kwargs)\n",
    "        \n",
    "    def build(self, input_shape):\n",
    "        super(Colores, self).build(input_shape)\n",
    "        \n",
    "    def call(self, inputs):\n",
    "        return 0.2989 * inputs[..., 0:1] + 0.5870 * inputs[..., 1:2] + 0.1140 * inputs[..., 2:3]\n",
    "    \n",
    "    def salida(self, input_shape):\n",
    "        return(input_shape[0], input_shape[1], input_shape[2], 1)"
   ]
  },
  {
   "cell_type": "code",
   "execution_count": null,
   "id": "2134c985",
   "metadata": {},
   "outputs": [],
   "source": []
  }
 ],
 "metadata": {
  "kernelspec": {
   "display_name": "Python 3 (ipykernel)",
   "language": "python",
   "name": "python3"
  },
  "language_info": {
   "codemirror_mode": {
    "name": "ipython",
    "version": 3
   },
   "file_extension": ".py",
   "mimetype": "text/x-python",
   "name": "python",
   "nbconvert_exporter": "python",
   "pygments_lexer": "ipython3",
   "version": "3.9.13"
  }
 },
 "nbformat": 4,
 "nbformat_minor": 5
}
