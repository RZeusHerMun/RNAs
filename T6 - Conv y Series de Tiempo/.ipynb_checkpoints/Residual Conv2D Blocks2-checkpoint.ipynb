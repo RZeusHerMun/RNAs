{
 "cells": [
  {
   "cell_type": "code",
   "execution_count": 6,
   "id": "ad92ef33",
   "metadata": {},
   "outputs": [],
   "source": [
    "from tensorflow import keras\n",
    "from tensorflow.keras import layers\n",
    "from keras.preprocessing.image import ImageDataGenerator\n",
    "import os"
   ]
  },
  {
   "cell_type": "code",
   "execution_count": 2,
   "id": "e7cee3df",
   "metadata": {},
   "outputs": [],
   "source": [
    "learning_rate = 0.01\n",
    "epochs = 30\n",
    "batch_size = 120 \n",
    "optimizer = 'rmsprop'"
   ]
  },
  {
   "cell_type": "code",
   "execution_count": 10,
   "id": "c2a50f74",
   "metadata": {},
   "outputs": [
    {
     "ename": "SyntaxError",
     "evalue": "invalid syntax (3140279262.py, line 1)",
     "output_type": "error",
     "traceback": [
      "\u001b[1;36m  Cell \u001b[1;32mIn[10], line 1\u001b[1;36m\u001b[0m\n\u001b[1;33m    DogsCats = C:\\\\Users\\el_he\\RNAs\\DogsCats.zip\u001b[0m\n\u001b[1;37m                ^\u001b[0m\n\u001b[1;31mSyntaxError\u001b[0m\u001b[1;31m:\u001b[0m invalid syntax\n"
     ]
    }
   ],
   "source": [
    "DogsCats = C:\\\\Users\\el_he\\RNAs\\DogsCats.zip\n",
    "# Buscar la forma de abrir la base de datos desde el directorio que ya tengo descargado."
   ]
  },
  {
   "cell_type": "code",
   "execution_count": null,
   "id": "76e1cd50",
   "metadata": {},
   "outputs": [],
   "source": [
    "unzip DogsCats.zip"
   ]
  },
  {
   "cell_type": "markdown",
   "id": "9d4bb4fc",
   "metadata": {},
   "source": [
    "Para el collab:\n",
    "\n",
    "!wget https://dagshub.com/jorgevc/Gatos-y-Perros/raw/24eaabd8ca81ed89f780138c1e3955ccd1f3d155/data/DogsCats.zip\n",
    "!unzip DogsCats.zip"
   ]
  },
  {
   "cell_type": "code",
   "execution_count": null,
   "id": "82a77199",
   "metadata": {},
   "outputs": [],
   "source": [
    "###################\n",
    "#### Load dataset ####\n",
    "ih, iw = 150, 150 #tamano de la imagen\n",
    "input_shape = (ih, iw, 3) #forma de la imagen: alto ancho y numero de canales\n",
    "\n",
    "#train_dir = 'data/minitrain' #directorio de entrenamiento\n",
    "#test_dir = 'data/minitest' #directorio de prueba\n",
    "train_dir = 'train' #directorio de entrenamiento\n",
    "test_dir = 'test' #directorio de prueba\n",
    "\n",
    "\n",
    "num_class = 2 #cuantas clases\n",
    "epochs = 30 #cuantas veces entrenar. En cada epoch hace una mejora en los parametros\n",
    "\n",
    "batch_size = 50 #batch para hacer cada entrenamiento. Lee 50 'batch_size' imagenes antes de actualizar los parametros. Las carga a memoria\n",
    "num_train = 20000 #numero de imagenes en train\n",
    "num_test = 5000 #numero de imagenes en test\n",
    "\n",
    "\n",
    "epoch_steps = num_train // batch_size\n",
    "test_steps = num_test // batch_size\n",
    "\n",
    "\n",
    "gentrain = ImageDataGenerator() #indica que reescale cada canal con valor entre 0 y 1.\n",
    "\n",
    "\n",
    "train = gentrain.flow_from_directory(train_dir,\n",
    "                batch_size=batch_size,\n",
    "                target_size=(iw, ih),\n",
    "                class_mode='binary')\n",
    "\n",
    "gentest = ImageDataGenerator()\n",
    "\n",
    "test = gentest.flow_from_directory(test_dir,\n",
    "                batch_size=batch_size,\n",
    "                target_size=(iw, ih),\n",
    "                class_mode='binary')"
   ]
  },
  {
   "cell_type": "markdown",
   "id": "35410388",
   "metadata": {},
   "source": [
    "Modelo de la Residual Covolucional 2D en bloques "
   ]
  },
  {
   "cell_type": "code",
   "execution_count": 11,
   "id": "f8326d12",
   "metadata": {},
   "outputs": [
    {
     "name": "stdout",
     "output_type": "stream",
     "text": [
      "Model: \"model\"\n",
      "__________________________________________________________________________________________________\n",
      " Layer (type)                Output Shape                 Param #   Connected to                  \n",
      "==================================================================================================\n",
      " input_1 (InputLayer)        [(None, 150, 150, 3)]        0         []                            \n",
      "                                                                                                  \n",
      " conv2d (Conv2D)             (None, 148, 148, 10)         280       ['input_1[0][0]']             \n",
      "                                                                                                  \n",
      " activation (Activation)     (None, 148, 148, 10)         0         ['conv2d[0][0]']              \n",
      "                                                                                                  \n",
      " max_pooling2d (MaxPooling2  (None, 74, 74, 10)           0         ['activation[0][0]']          \n",
      " D)                                                                                               \n",
      "                                                                                                  \n",
      " conv2d_1 (Conv2D)           (None, 74, 74, 10)           910       ['max_pooling2d[0][0]']       \n",
      "                                                                                                  \n",
      " max_pooling2d_1 (MaxPoolin  (None, 37, 37, 10)           0         ['conv2d_1[0][0]']            \n",
      " g2D)                                                                                             \n",
      "                                                                                                  \n",
      " conv2d_2 (Conv2D)           (None, 37, 37, 10)           110       ['max_pooling2d[0][0]']       \n",
      "                                                                                                  \n",
      " add (Add)                   (None, 37, 37, 10)           0         ['max_pooling2d_1[0][0]',     \n",
      "                                                                     'conv2d_2[0][0]']            \n",
      "                                                                                                  \n",
      " conv2d_3 (Conv2D)           (None, 35, 35, 20)           1820      ['add[0][0]']                 \n",
      "                                                                                                  \n",
      " max_pooling2d_2 (MaxPoolin  (None, 17, 17, 20)           0         ['conv2d_3[0][0]']            \n",
      " g2D)                                                                                             \n",
      "                                                                                                  \n",
      " conv2d_4 (Conv2D)           (None, 17, 17, 20)           3220      ['add[0][0]']                 \n",
      "                                                                                                  \n",
      " add_1 (Add)                 (None, 17, 17, 20)           0         ['max_pooling2d_2[0][0]',     \n",
      "                                                                     'conv2d_4[0][0]']            \n",
      "                                                                                                  \n",
      " flatten (Flatten)           (None, 5780)                 0         ['add_1[0][0]']               \n",
      "                                                                                                  \n",
      " dense (Dense)               (None, 64)                   369984    ['flatten[0][0]']             \n",
      "                                                                                                  \n",
      " dropout (Dropout)           (None, 64)                   0         ['dense[0][0]']               \n",
      "                                                                                                  \n",
      " dense_1 (Dense)             (None, 1)                    65        ['dropout[0][0]']             \n",
      "                                                                                                  \n",
      "==================================================================================================\n",
      "Total params: 376389 (1.44 MB)\n",
      "Trainable params: 376389 (1.44 MB)\n",
      "Non-trainable params: 0 (0.00 Byte)\n",
      "__________________________________________________________________________________________________\n"
     ]
    }
   ],
   "source": [
    "#### Define Model ####\n",
    "\n",
    "inputs = keras.Input(shape=(32, 32, 3))\n",
    "x = layers.Rescaling(1./255)(inputs)\n",
    "\n",
    "def block(x,base_filter=32, pooling=True):\n",
    "    residual = x\n",
    "    x = layers.Conv2D(base_filter, 3, activation=\"relu\", padding=\"same\")(x)\n",
    "    x = layers.Conv2D(2*base_filter, 3, activation=\"relu\", padding=\"same\")(x)\n",
    "    if (pooling == True):\n",
    "        x = layers.MaxPooling2D(2, padding=\"same\")(x)\n",
    "        residual = layers.Conv2D(2*base_filter, 1, strides=2)(residual)\n",
    "    else:\n",
    "        residual = layers.Conv2D(2*base_filter, 1)(residual)\n",
    "    x = layers.add([x, residual])\n",
    "    return x\n",
    "\n",
    "x = block(x,base_filter=32)\n",
    "x = block(x,base_filter=48)\n",
    "x = block(x,base_filter=64,pooling=False)\n",
    "\n",
    "x = layers.GlobalAveragePooling2D()(x)\n",
    "outputs = layers.Dense(1, activation=\"sigmoid\")(x)\n",
    "model = keras.Model(inputs=inputs, outputs=outputs)\n",
    "model.summary()\n",
    "\n",
    "######"
   ]
  },
  {
   "cell_type": "code",
   "execution_count": null,
   "id": "5ced4f04",
   "metadata": {},
   "outputs": [],
   "source": [
    "model.compile(loss='binary_crossentropy', \n",
    "             optimizer = optimizer,\n",
    "             metrics=['accuracy'])\n",
    "\n",
    "model.fit(train, \n",
    "         batch_size = batch_size,\n",
    "         epochs = epochs,\n",
    "         validation_data = test\n",
    "         )\n",
    "\n",
    "model.save(\"Conv2D.hf5\")\n"
   ]
  }
 ],
 "metadata": {
  "kernelspec": {
   "display_name": "Python 3 (ipykernel)",
   "language": "python",
   "name": "python3"
  },
  "language_info": {
   "codemirror_mode": {
    "name": "ipython",
    "version": 3
   },
   "file_extension": ".py",
   "mimetype": "text/x-python",
   "name": "python",
   "nbconvert_exporter": "python",
   "pygments_lexer": "ipython3",
   "version": "3.9.13"
  }
 },
 "nbformat": 4,
 "nbformat_minor": 5
}
