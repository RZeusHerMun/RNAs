{
 "cells": [
  {
   "cell_type": "code",
   "execution_count": 1,
   "id": "ecf1d38b",
   "metadata": {},
   "outputs": [],
   "source": [
    "import tensorflow as tf \n",
    "import numpy as np\n",
    "import matplotlib.pyplot as plt\n",
    "from time import time\n",
    "%matplotlib inline\n",
    "plt.style.use('default')"
   ]
  },
  {
   "cell_type": "markdown",
   "id": "0cdcf70c",
   "metadata": {},
   "source": [
    "Blood Preassure data"
   ]
  },
  {
   "cell_type": "code",
   "execution_count": 2,
   "id": "6b60b2ea",
   "metadata": {},
   "outputs": [],
   "source": [
    "x = [22, 41, 52, 23, 41, 54, 24, 46, 56, 27, 47, 57, 28, 48, 58,  9,\n",
    "     49, 59, 30, 49, 63, 32, 50, 67, 33, 51, 71, 35, 51, 77, 40, 51, 81]\n",
    "y = [131, 139, 128, 128, 171, 105, 116, 137, 145, 106, 111, 141, 114,\n",
    "     115, 153, 123, 133, 157, 117, 128, 155, 122, 183,\n",
    "     176,  99, 130, 172, 121, 133, 178, 147, 144, 217]\n",
    "x = np.array(x, np.float32)\n",
    "y = np.array(y, np.float32)"
   ]
  },
  {
   "cell_type": "code",
   "execution_count": 4,
   "id": "192c1f09",
   "metadata": {},
   "outputs": [],
   "source": [
    "def loss(a, b):\n",
    "    y_hat = a*x +b\n",
    "    return tf.reduce_mean((y_hat - y)**2)"
   ]
  },
  {
   "cell_type": "markdown",
   "id": "8895fe84",
   "metadata": {},
   "source": [
    "Aquí se muestra como tensorflow usa \"eager execution\". Es decir asigna valores a los nodos de la grafica que representa la funcion tan pronto como puede."
   ]
  },
  {
   "cell_type": "code",
   "execution_count": 5,
   "id": "62f322b9",
   "metadata": {},
   "outputs": [
    {
     "data": {
      "text/plain": [
       "<tf.Tensor: shape=(), dtype=float32, numpy=673.4545>"
      ]
     },
     "execution_count": 5,
     "metadata": {},
     "output_type": "execute_result"
    }
   ],
   "source": [
    "a = tf.Variable(0.0)\n",
    "b = tf.Variable(139.0)\n",
    "loss(a,b)"
   ]
  },
  {
   "cell_type": "code",
   "execution_count": 7,
   "id": "e761c702",
   "metadata": {},
   "outputs": [
    {
     "name": "stdout",
     "output_type": "stream",
     "text": [
      "Loss at  tf.Tensor(673.4545, shape=(), dtype=float32)\n",
      "tf.Tensor(-553.09094, shape=(), dtype=float32) tf.Tensor(0.7272725, shape=(), dtype=float32)\n"
     ]
    }
   ],
   "source": [
    "a = tf.Variable(0.0)\n",
    "b = tf.Variable(139.0)\n",
    "with tf.GradientTape() as tape:\n",
    "    loss_val = loss(a,b)\n",
    "    print(\"Loss at \", loss_val)\n",
    "grad_a, grad_b = tape.gradient(loss_val, [a, b])\n",
    "print(grad_a, grad_b)"
   ]
  },
  {
   "cell_type": "code",
   "execution_count": 11,
   "id": "3283530d",
   "metadata": {},
   "outputs": [
    {
     "name": "stdout",
     "output_type": "stream",
     "text": [
      "Epoch: 0 slope= 0.22123638  intercept= 138.99971 gradient_a -553.09094 gradient_b 0.7272725 mse= 673.4545 time for 1000 epochs  0.001519632339477539\n",
      "Epoch: 400 slope= 0.15008102  intercept= 137.20808 gradient_a -0.21151733 gradient_b 10.988262 mse= 621.487 time for 1000 epochs  0.30028591156005857\n",
      "Epoch: 800 slope= 0.18337736  intercept= 135.48087 gradient_a -0.20394897 gradient_b 10.605133 mse= 602.83014 time for 1000 epochs  0.29810943603515627\n",
      "Epoch: 1200 slope= 0.21551366  intercept= 133.81383 gradient_a -0.19665527 gradient_b 10.2353525 mse= 585.4511 time for 1000 epochs  0.2954153060913086\n",
      "Epoch: 1600 slope= 0.246528  intercept= 132.20499 gradient_a -0.19015503 gradient_b 9.878472 mse= 569.26385 time for 1000 epochs  0.29765806198120115\n",
      "Epoch: 2000 slope= 0.27646142  intercept= 130.65222 gradient_a -0.18405151 gradient_b 9.534027 mse= 554.18536 time for 1000 epochs  0.368207311630249\n",
      "Epoch: 2400 slope= 0.30535126  intercept= 129.15358 gradient_a -0.17642212 gradient_b 9.20162 mse= 540.13983 time for 1000 epochs  0.3538248062133789\n",
      "Epoch: 2800 slope= 0.33323565  intercept= 127.707115 gradient_a -0.17193604 gradient_b 8.880732 mse= 527.056 time for 1000 epochs  0.30686535835266116\n",
      "Epoch: 3200 slope= 0.3601453  intercept= 126.311195 gradient_a -0.16473389 gradient_b 8.571112 mse= 514.8698 time for 1000 epochs  0.30884366035461425\n",
      "Epoch: 3600 slope= 0.3861172  intercept= 124.96393 gradient_a -0.15948486 gradient_b 8.272253 mse= 503.5184 time for 1000 epochs  0.31479701995849607\n",
      "Epoch: 4000 slope= 0.41118363  intercept= 123.66363 gradient_a -0.15386963 gradient_b 7.983818 mse= 492.9446 time for 1000 epochs  0.31152796745300293\n",
      "Epoch: 4400 slope= 0.43537548  intercept= 122.40869 gradient_a -0.14776611 gradient_b 7.7054625 mse= 483.09555 time for 1000 epochs  0.30914082527160647\n",
      "Epoch: 4800 slope= 0.45872426  intercept= 121.1975 gradient_a -0.14337158 gradient_b 7.43678 mse= 473.9214 time for 1000 epochs  0.30529584884643557\n",
      "Epoch: 5200 slope= 0.48125908  intercept= 120.028534 gradient_a -0.13839722 gradient_b 7.177476 mse= 465.37552 time for 1000 epochs  0.3036386013031006\n",
      "Epoch: 5600 slope= 0.5030079  intercept= 118.90033 gradient_a -0.13323975 gradient_b 6.9272237 mse= 457.41544 time for 1000 epochs  0.3068101406097412\n",
      "Epoch: 6000 slope= 0.5239988  intercept= 117.81144 gradient_a -0.12826538 gradient_b 6.6856937 mse= 450.00055 time for 1000 epochs  0.3091400623321533\n",
      "Epoch: 6400 slope= 0.5442573  intercept= 116.76056 gradient_a -0.12432861 gradient_b 6.452575 mse= 443.094 time for 1000 epochs  0.3069762706756592\n",
      "Epoch: 6800 slope= 0.56381005  intercept= 115.74628 gradient_a -0.12042236 gradient_b 6.227579 mse= 436.66046 time for 1000 epochs  0.30811395645141604\n",
      "Epoch: 7200 slope= 0.5826802  intercept= 114.7674 gradient_a -0.115600586 gradient_b 6.010454 mse= 430.66785 time for 1000 epochs  0.31135025024414065\n",
      "Epoch: 7600 slope= 0.60089314  intercept= 113.82263 gradient_a -0.11236572 gradient_b 5.80087 mse= 425.08575 time for 1000 epochs  0.3113668918609619\n"
     ]
    }
   ],
   "source": [
    "a = tf.Variable(0.0)\n",
    "b = tf.Variable(139.0)\n",
    "eta = 0.0004\n",
    "start = time()\n",
    "for i in range(8000):\n",
    "    with tf.GradientTape() as tape:\n",
    "        y_hat = a*x + b\n",
    "        loss = tf.reduce_mean((y_hat - y)**2)\n",
    "    grad_a, grad_b = tape.gradient(loss, [a, b])\n",
    "    a = tf.Variable(a - eta * grad_a)\n",
    "    b = tf.Variable(b - eta * grad_b)\n",
    "    if (i % 400 == 0):\n",
    "        t = time() - start\n",
    "        print(\"Epoch:\",i, \"slope=\",a.numpy(), \" intercept=\",b.numpy(), \"gradient_a\",grad_a.numpy(), \"gradient_b\", grad_b.numpy(), \"mse=\", loss.numpy(), \"time for 1000 epochs \", t/5.)\n",
    "        start = time()"
   ]
  },
  {
   "cell_type": "code",
   "execution_count": 12,
   "id": "1a5419bf",
   "metadata": {},
   "outputs": [
    {
     "data": {
      "text/plain": [
       "<matplotlib.collections.PathCollection at 0x283f5e12340>"
      ]
     },
     "execution_count": 12,
     "metadata": {},
     "output_type": "execute_result"
    },
    {
     "data": {
      "image/png": "[encoded data removed]",
      "text/plain": [
       "<Figure size 640x480 with 1 Axes>"
      ]
     },
     "metadata": {},
     "output_type": "display_data"
    }
   ],
   "source": [
    "plt.plot(x,a*x+b)\n",
    "plt.scatter(x,y)"
   ]
  },
  {
   "cell_type": "markdown",
   "id": "be477bea",
   "metadata": {},
   "source": [
    "Para mejorar el tiempo de cómputo, se puede usar \"Lazy Evaluation\" que es lo contrario de \"Eager Evaluation\". Es decir, no asigna valores en la Grafica que representa la función y por lo tanto la \"misma gráfica\" se puede usar en cada evaluación particular. Esto, elimina el costo computacional de crear una nueva gráfica cada vez que se evalúa la funcion.\n",
    "\n",
    "Para esta \"configuración\" simplemente es neceario usar el decorador @tf.function."
   ]
  },
  {
   "cell_type": "code",
   "execution_count": 13,
   "id": "8743adad",
   "metadata": {},
   "outputs": [
    {
     "name": "stdout",
     "output_type": "stream",
     "text": [
      "Epoch: 0 slope= 0.22123638 intercept= 138.99971 gradient_a mse= 419.89865 time for 1000 epochs  0.03819575309753418\n",
      "Epoch: 4000 slope= 0.41118363 intercept= 123.66363 gradient_a mse= 419.89865 time for 1000 epochs  0.3023181438446045\n"
     ]
    }
   ],
   "source": [
    "start= time()\n",
    "a  = tf.Variable(0.0)\n",
    "b = tf.Variable(139.0)\n",
    "eta = 0.0004\n",
    "\n",
    "@tf.function #Will tell tf to build a graph from this code\n",
    "def train_step():\n",
    "    y_hat = a*x + b\n",
    "    loss = tf.reduce_mean((y_hat - y)**2)\n",
    "    grad_a, grad_b  = tape.gradient(loss, [a,b])\n",
    "    a.assign(a - eta * grad_a)\n",
    "    b.assign(b - eta * grad_b)\n",
    "\n",
    "for i in range(8000):\n",
    "  with tf.GradientTape() as tape: #Record the gradients from now on\n",
    "    train_step()\n",
    "    if (i % 4000 == 0):\n",
    "        t = time() - start\n",
    "        print(\"Epoch:\",i, \"slope=\",a.numpy(),\"intercept=\",b.numpy(),\"gradient_a\", \"mse=\", loss.numpy(), \"time for 1000 epochs \", t/5.)\n",
    "        start = time()"
   ]
  },
  {
   "cell_type": "code",
   "execution_count": null,
   "id": "3dd30267",
   "metadata": {},
   "outputs": [],
   "source": []
  }
 ],
 "metadata": {
  "kernelspec": {
   "display_name": "Python 3 (ipykernel)",
   "language": "python",
   "name": "python3"
  },
  "language_info": {
   "codemirror_mode": {
    "name": "ipython",
    "version": 3
   },
   "file_extension": ".py",
   "mimetype": "text/x-python",
   "name": "python",
   "nbconvert_exporter": "python",
   "pygments_lexer": "ipython3",
   "version": "3.9.13"
  }
 },
 "nbformat": 4,
 "nbformat_minor": 5
}
