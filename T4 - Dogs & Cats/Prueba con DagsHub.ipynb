{
 "cells": [
  {
   "cell_type": "code",
   "execution_count": 3,
   "id": "8fb3cb68",
   "metadata": {},
   "outputs": [
    {
     "name": "stderr",
     "output_type": "stream",
     "text": [
      "Cloning into 'my-first-repo'...\n",
      "warning: You appear to have cloned an empty repository.\n"
     ]
    }
   ],
   "source": [
    "!git clone https://dagshub.com/RZeusHerMun/my-first-repo.git"
   ]
  },
  {
   "cell_type": "code",
   "execution_count": 4,
   "id": "af882977",
   "metadata": {},
   "outputs": [
    {
     "name": "stdout",
     "output_type": "stream",
     "text": [
      "C:\\Users\\el_he\\RNAs\\T4 - Dogs & Cats\\my-first-repo\n"
     ]
    }
   ],
   "source": [
    "cd my-first-repo"
   ]
  },
  {
   "cell_type": "code",
   "execution_count": 15,
   "id": "fd39c3ce",
   "metadata": {},
   "outputs": [],
   "source": [
    "import os\n",
    "import dagshub\n",
    "import mlflow\n",
    "import tensorflow as tf\n",
    "from tensorflow import keras\n",
    "from tensorflow.keras.datasets import mnist\n",
    "from tensorflow.keras.models import Sequential\n",
    "from tensorflow.keras.layers import Dense, Dropout, Activation, Flatten, Input\n",
    "from tensorflow.keras.optimizers import RMSprop, SGD, Adam\n",
    "from mlflow import start_run, end_run, log_metric\n",
    "from tensorflow.keras import regularizers\n",
    "from keras.callbacks import ModelCheckpoint, EarlyStopping\n",
    "from getpass import getpass\n",
    "from IPython.core.magics import history\n",
    "from mlflow.tracking.fluent import log_param\n",
    "from tensorflow.python.platform.tf_logging import log\n",
    "from mlflow.keras import log_model"
   ]
  },
  {
   "cell_type": "code",
   "execution_count": 7,
   "id": "7833d689",
   "metadata": {},
   "outputs": [
    {
     "name": "stdout",
     "output_type": "stream",
     "text": [
      "Requirement already satisfied: dagshub in c:\\users\\el_he\\anaconda3\\lib\\site-packages (0.3.8.post1)\n",
      "Requirement already satisfied: PyYAML>=5 in c:\\users\\el_he\\anaconda3\\lib\\site-packages (from dagshub) (6.0)\n",
      "Requirement already satisfied: fusepy>=3 in c:\\users\\el_he\\anaconda3\\lib\\site-packages (from dagshub) (3.0.1)\n",
      "Requirement already satisfied: appdirs>=1.4.4 in c:\\users\\el_he\\anaconda3\\lib\\site-packages (from dagshub) (1.4.4)\n",
      "Requirement already satisfied: click>=8.0.4 in c:\\users\\el_he\\anaconda3\\lib\\site-packages (from dagshub) (8.0.4)\n",
      "Requirement already satisfied: httpx~=0.23.0 in c:\\users\\el_he\\anaconda3\\lib\\site-packages (from dagshub) (0.23.3)\n",
      "Requirement already satisfied: GitPython>=3.1.29 in c:\\users\\el_he\\anaconda3\\lib\\site-packages (from dagshub) (3.1.37)\n",
      "Requirement already satisfied: rich[jupyter]~=13.1.0 in c:\\users\\el_he\\anaconda3\\lib\\site-packages (from dagshub) (13.1.0)\n",
      "Requirement already satisfied: dacite~=1.6.0 in c:\\users\\el_he\\anaconda3\\lib\\site-packages (from dagshub) (1.6.0)\n",
      "Requirement already satisfied: tenacity~=8.2.2 in c:\\users\\el_he\\anaconda3\\lib\\site-packages (from dagshub) (8.2.2)\n",
      "Requirement already satisfied: gql[requests] in c:\\users\\el_he\\anaconda3\\lib\\site-packages (from dagshub) (3.4.1)\n",
      "Requirement already satisfied: dataclasses-json in c:\\users\\el_he\\anaconda3\\lib\\site-packages (from dagshub) (0.6.1)\n",
      "Requirement already satisfied: pandas in c:\\users\\el_he\\anaconda3\\lib\\site-packages (from dagshub) (1.4.4)\n",
      "Requirement already satisfied: treelib~=1.6.4 in c:\\users\\el_he\\anaconda3\\lib\\site-packages (from dagshub) (1.6.4)\n",
      "Requirement already satisfied: pathvalidate~=3.0.0 in c:\\users\\el_he\\anaconda3\\lib\\site-packages (from dagshub) (3.0.0)\n",
      "Requirement already satisfied: python-dateutil in c:\\users\\el_he\\anaconda3\\lib\\site-packages (from dagshub) (2.8.2)\n",
      "Requirement already satisfied: colorama in c:\\users\\el_he\\anaconda3\\lib\\site-packages (from click>=8.0.4->dagshub) (0.4.6)\n",
      "Requirement already satisfied: gitdb<5,>=4.0.1 in c:\\users\\el_he\\anaconda3\\lib\\site-packages (from GitPython>=3.1.29->dagshub) (4.0.10)\n",
      "Requirement already satisfied: certifi in c:\\users\\el_he\\anaconda3\\lib\\site-packages (from httpx~=0.23.0->dagshub) (2023.7.22)\n",
      "Requirement already satisfied: httpcore<0.17.0,>=0.15.0 in c:\\users\\el_he\\anaconda3\\lib\\site-packages (from httpx~=0.23.0->dagshub) (0.16.3)\n",
      "Requirement already satisfied: rfc3986[idna2008]<2,>=1.3 in c:\\users\\el_he\\anaconda3\\lib\\site-packages (from httpx~=0.23.0->dagshub) (1.5.0)\n",
      "Requirement already satisfied: sniffio in c:\\users\\el_he\\anaconda3\\lib\\site-packages (from httpx~=0.23.0->dagshub) (1.2.0)\n",
      "Requirement already satisfied: commonmark<0.10.0,>=0.9.0 in c:\\users\\el_he\\anaconda3\\lib\\site-packages (from rich[jupyter]~=13.1.0->dagshub) (0.9.1)\n",
      "Requirement already satisfied: pygments<3.0.0,>=2.6.0 in c:\\users\\el_he\\anaconda3\\lib\\site-packages (from rich[jupyter]~=13.1.0->dagshub) (2.15.1)\n",
      "Requirement already satisfied: ipywidgets<8.0.0,>=7.5.1 in c:\\users\\el_he\\anaconda3\\lib\\site-packages (from rich[jupyter]~=13.1.0->dagshub) (7.8.1)\n",
      "Requirement already satisfied: six in c:\\users\\el_he\\anaconda3\\lib\\site-packages (from treelib~=1.6.4->dagshub) (1.16.0)\n",
      "Requirement already satisfied: marshmallow<4.0.0,>=3.18.0 in c:\\users\\el_he\\anaconda3\\lib\\site-packages (from dataclasses-json->dagshub) (3.20.1)\n",
      "Requirement already satisfied: typing-inspect<1,>=0.4.0 in c:\\users\\el_he\\anaconda3\\lib\\site-packages (from dataclasses-json->dagshub) (0.9.0)\n",
      "Requirement already satisfied: graphql-core<3.3,>=3.2 in c:\\users\\el_he\\anaconda3\\lib\\site-packages (from gql[requests]->dagshub) (3.2.3)\n",
      "Requirement already satisfied: yarl<2.0,>=1.6 in c:\\users\\el_he\\anaconda3\\lib\\site-packages (from gql[requests]->dagshub) (1.8.1)\n",
      "Requirement already satisfied: backoff<3.0,>=1.11.1 in c:\\users\\el_he\\anaconda3\\lib\\site-packages (from gql[requests]->dagshub) (2.2.1)\n",
      "Requirement already satisfied: requests<3,>=2.26 in c:\\users\\el_he\\anaconda3\\lib\\site-packages (from gql[requests]->dagshub) (2.31.0)\n",
      "Requirement already satisfied: requests-toolbelt<1,>=0.9.1 in c:\\users\\el_he\\anaconda3\\lib\\site-packages (from gql[requests]->dagshub) (0.10.1)\n",
      "Requirement already satisfied: urllib3<2,>=1.26 in c:\\users\\el_he\\anaconda3\\lib\\site-packages (from gql[requests]->dagshub) (1.26.16)\n",
      "Requirement already satisfied: pytz>=2020.1 in c:\\users\\el_he\\anaconda3\\lib\\site-packages (from pandas->dagshub) (2022.7)\n",
      "Requirement already satisfied: numpy>=1.18.5 in c:\\users\\el_he\\anaconda3\\lib\\site-packages (from pandas->dagshub) (1.24.3)\n",
      "Requirement already satisfied: smmap<6,>=3.0.1 in c:\\users\\el_he\\anaconda3\\lib\\site-packages (from gitdb<5,>=4.0.1->GitPython>=3.1.29->dagshub) (5.0.1)\n",
      "Requirement already satisfied: h11<0.15,>=0.13 in c:\\users\\el_he\\anaconda3\\lib\\site-packages (from httpcore<0.17.0,>=0.15.0->httpx~=0.23.0->dagshub) (0.14.0)\n",
      "Requirement already satisfied: anyio<5.0,>=3.0 in c:\\users\\el_he\\anaconda3\\lib\\site-packages (from httpcore<0.17.0,>=0.15.0->httpx~=0.23.0->dagshub) (3.5.0)\n",
      "Requirement already satisfied: comm>=0.1.3 in c:\\users\\el_he\\anaconda3\\lib\\site-packages (from ipywidgets<8.0.0,>=7.5.1->rich[jupyter]~=13.1.0->dagshub) (0.1.4)\n",
      "Requirement already satisfied: ipython-genutils~=0.2.0 in c:\\users\\el_he\\anaconda3\\lib\\site-packages (from ipywidgets<8.0.0,>=7.5.1->rich[jupyter]~=13.1.0->dagshub) (0.2.0)\n",
      "Requirement already satisfied: traitlets>=4.3.1 in c:\\users\\el_he\\anaconda3\\lib\\site-packages (from ipywidgets<8.0.0,>=7.5.1->rich[jupyter]~=13.1.0->dagshub) (5.7.1)\n",
      "Requirement already satisfied: widgetsnbextension~=3.6.6 in c:\\users\\el_he\\anaconda3\\lib\\site-packages (from ipywidgets<8.0.0,>=7.5.1->rich[jupyter]~=13.1.0->dagshub) (3.6.6)\n",
      "Requirement already satisfied: ipython>=4.0.0 in c:\\users\\el_he\\anaconda3\\lib\\site-packages (from ipywidgets<8.0.0,>=7.5.1->rich[jupyter]~=13.1.0->dagshub) (8.12.2)\n",
      "Requirement already satisfied: jupyterlab-widgets<3,>=1.0.0 in c:\\users\\el_he\\anaconda3\\lib\\site-packages (from ipywidgets<8.0.0,>=7.5.1->rich[jupyter]~=13.1.0->dagshub) (1.1.7)\n",
      "Requirement already satisfied: packaging>=17.0 in c:\\users\\el_he\\anaconda3\\lib\\site-packages (from marshmallow<4.0.0,>=3.18.0->dataclasses-json->dagshub) (23.0)\n",
      "Requirement already satisfied: charset-normalizer<4,>=2 in c:\\users\\el_he\\anaconda3\\lib\\site-packages (from requests<3,>=2.26->gql[requests]->dagshub) (2.0.4)\n",
      "Requirement already satisfied: idna<4,>=2.5 in c:\\users\\el_he\\anaconda3\\lib\\site-packages (from requests<3,>=2.26->gql[requests]->dagshub) (3.4)\n",
      "Requirement already satisfied: mypy-extensions>=0.3.0 in c:\\users\\el_he\\anaconda3\\lib\\site-packages (from typing-inspect<1,>=0.4.0->dataclasses-json->dagshub) (0.4.3)\n",
      "Requirement already satisfied: typing-extensions>=3.7.4 in c:\\users\\el_he\\anaconda3\\lib\\site-packages (from typing-inspect<1,>=0.4.0->dataclasses-json->dagshub) (4.5.0)\n",
      "Requirement already satisfied: multidict>=4.0 in c:\\users\\el_he\\anaconda3\\lib\\site-packages (from yarl<2.0,>=1.6->gql[requests]->dagshub) (6.0.2)\n",
      "Requirement already satisfied: backcall in c:\\users\\el_he\\anaconda3\\lib\\site-packages (from ipython>=4.0.0->ipywidgets<8.0.0,>=7.5.1->rich[jupyter]~=13.1.0->dagshub) (0.2.0)\n",
      "Requirement already satisfied: decorator in c:\\users\\el_he\\anaconda3\\lib\\site-packages (from ipython>=4.0.0->ipywidgets<8.0.0,>=7.5.1->rich[jupyter]~=13.1.0->dagshub) (5.1.1)\n",
      "Requirement already satisfied: jedi>=0.16 in c:\\users\\el_he\\anaconda3\\lib\\site-packages (from ipython>=4.0.0->ipywidgets<8.0.0,>=7.5.1->rich[jupyter]~=13.1.0->dagshub) (0.18.1)\n",
      "Requirement already satisfied: matplotlib-inline in c:\\users\\el_he\\anaconda3\\lib\\site-packages (from ipython>=4.0.0->ipywidgets<8.0.0,>=7.5.1->rich[jupyter]~=13.1.0->dagshub) (0.1.6)\n",
      "Requirement already satisfied: pickleshare in c:\\users\\el_he\\anaconda3\\lib\\site-packages (from ipython>=4.0.0->ipywidgets<8.0.0,>=7.5.1->rich[jupyter]~=13.1.0->dagshub) (0.7.5)\n",
      "Requirement already satisfied: prompt-toolkit!=3.0.37,<3.1.0,>=3.0.30 in c:\\users\\el_he\\anaconda3\\lib\\site-packages (from ipython>=4.0.0->ipywidgets<8.0.0,>=7.5.1->rich[jupyter]~=13.1.0->dagshub) (3.0.36)\n",
      "Requirement already satisfied: stack-data in c:\\users\\el_he\\anaconda3\\lib\\site-packages (from ipython>=4.0.0->ipywidgets<8.0.0,>=7.5.1->rich[jupyter]~=13.1.0->dagshub) (0.2.0)\n",
      "Requirement already satisfied: notebook>=4.4.1 in c:\\users\\el_he\\anaconda3\\lib\\site-packages (from widgetsnbextension~=3.6.6->ipywidgets<8.0.0,>=7.5.1->rich[jupyter]~=13.1.0->dagshub) (6.4.12)\n",
      "Requirement already satisfied: parso<0.9.0,>=0.8.0 in c:\\users\\el_he\\anaconda3\\lib\\site-packages (from jedi>=0.16->ipython>=4.0.0->ipywidgets<8.0.0,>=7.5.1->rich[jupyter]~=13.1.0->dagshub) (0.8.3)\n",
      "Requirement already satisfied: jinja2 in c:\\users\\el_he\\anaconda3\\lib\\site-packages (from notebook>=4.4.1->widgetsnbextension~=3.6.6->ipywidgets<8.0.0,>=7.5.1->rich[jupyter]~=13.1.0->dagshub) (3.0.3)\n",
      "Requirement already satisfied: tornado>=6.1 in c:\\users\\el_he\\anaconda3\\lib\\site-packages (from notebook>=4.4.1->widgetsnbextension~=3.6.6->ipywidgets<8.0.0,>=7.5.1->rich[jupyter]~=13.1.0->dagshub) (6.3.2)\n",
      "Requirement already satisfied: pyzmq>=17 in c:\\users\\el_he\\anaconda3\\lib\\site-packages (from notebook>=4.4.1->widgetsnbextension~=3.6.6->ipywidgets<8.0.0,>=7.5.1->rich[jupyter]~=13.1.0->dagshub) (25.1.0)\n",
      "Requirement already satisfied: argon2-cffi in c:\\users\\el_he\\anaconda3\\lib\\site-packages (from notebook>=4.4.1->widgetsnbextension~=3.6.6->ipywidgets<8.0.0,>=7.5.1->rich[jupyter]~=13.1.0->dagshub) (21.3.0)\n",
      "Requirement already satisfied: jupyter-core>=4.6.1 in c:\\users\\el_he\\anaconda3\\lib\\site-packages (from notebook>=4.4.1->widgetsnbextension~=3.6.6->ipywidgets<8.0.0,>=7.5.1->rich[jupyter]~=13.1.0->dagshub) (5.3.0)\n",
      "Requirement already satisfied: jupyter-client>=5.3.4 in c:\\users\\el_he\\anaconda3\\lib\\site-packages (from notebook>=4.4.1->widgetsnbextension~=3.6.6->ipywidgets<8.0.0,>=7.5.1->rich[jupyter]~=13.1.0->dagshub) (8.1.0)\n",
      "Requirement already satisfied: nbformat in c:\\users\\el_he\\anaconda3\\lib\\site-packages (from notebook>=4.4.1->widgetsnbextension~=3.6.6->ipywidgets<8.0.0,>=7.5.1->rich[jupyter]~=13.1.0->dagshub) (5.7.0)\n",
      "Requirement already satisfied: nbconvert>=5 in c:\\users\\el_he\\anaconda3\\lib\\site-packages (from notebook>=4.4.1->widgetsnbextension~=3.6.6->ipywidgets<8.0.0,>=7.5.1->rich[jupyter]~=13.1.0->dagshub) (6.4.4)\n",
      "Requirement already satisfied: nest-asyncio>=1.5 in c:\\users\\el_he\\anaconda3\\lib\\site-packages (from notebook>=4.4.1->widgetsnbextension~=3.6.6->ipywidgets<8.0.0,>=7.5.1->rich[jupyter]~=13.1.0->dagshub) (1.5.6)\n",
      "Requirement already satisfied: ipykernel in c:\\users\\el_he\\anaconda3\\lib\\site-packages (from notebook>=4.4.1->widgetsnbextension~=3.6.6->ipywidgets<8.0.0,>=7.5.1->rich[jupyter]~=13.1.0->dagshub) (6.25.0)\n",
      "Requirement already satisfied: Send2Trash>=1.8.0 in c:\\users\\el_he\\anaconda3\\lib\\site-packages (from notebook>=4.4.1->widgetsnbextension~=3.6.6->ipywidgets<8.0.0,>=7.5.1->rich[jupyter]~=13.1.0->dagshub) (1.8.0)\n",
      "Requirement already satisfied: terminado>=0.8.3 in c:\\users\\el_he\\anaconda3\\lib\\site-packages (from notebook>=4.4.1->widgetsnbextension~=3.6.6->ipywidgets<8.0.0,>=7.5.1->rich[jupyter]~=13.1.0->dagshub) (0.17.1)\n",
      "Requirement already satisfied: prometheus-client in c:\\users\\el_he\\anaconda3\\lib\\site-packages (from notebook>=4.4.1->widgetsnbextension~=3.6.6->ipywidgets<8.0.0,>=7.5.1->rich[jupyter]~=13.1.0->dagshub) (0.14.1)\n",
      "Requirement already satisfied: wcwidth in c:\\users\\el_he\\anaconda3\\lib\\site-packages (from prompt-toolkit!=3.0.37,<3.1.0,>=3.0.30->ipython>=4.0.0->ipywidgets<8.0.0,>=7.5.1->rich[jupyter]~=13.1.0->dagshub) (0.2.5)\n",
      "Requirement already satisfied: executing in c:\\users\\el_he\\anaconda3\\lib\\site-packages (from stack-data->ipython>=4.0.0->ipywidgets<8.0.0,>=7.5.1->rich[jupyter]~=13.1.0->dagshub) (0.8.3)\n",
      "Requirement already satisfied: asttokens in c:\\users\\el_he\\anaconda3\\lib\\site-packages (from stack-data->ipython>=4.0.0->ipywidgets<8.0.0,>=7.5.1->rich[jupyter]~=13.1.0->dagshub) (2.0.5)\n",
      "Requirement already satisfied: pure-eval in c:\\users\\el_he\\anaconda3\\lib\\site-packages (from stack-data->ipython>=4.0.0->ipywidgets<8.0.0,>=7.5.1->rich[jupyter]~=13.1.0->dagshub) (0.2.2)\n",
      "Requirement already satisfied: importlib-metadata>=4.8.3 in c:\\users\\el_he\\anaconda3\\lib\\site-packages (from jupyter-client>=5.3.4->notebook>=4.4.1->widgetsnbextension~=3.6.6->ipywidgets<8.0.0,>=7.5.1->rich[jupyter]~=13.1.0->dagshub) (6.0.0)\n",
      "Requirement already satisfied: platformdirs>=2.5 in c:\\users\\el_he\\anaconda3\\lib\\site-packages (from jupyter-core>=4.6.1->notebook>=4.4.1->widgetsnbextension~=3.6.6->ipywidgets<8.0.0,>=7.5.1->rich[jupyter]~=13.1.0->dagshub) (3.10.0)\n",
      "Requirement already satisfied: pywin32>=300 in c:\\users\\el_he\\anaconda3\\lib\\site-packages (from jupyter-core>=4.6.1->notebook>=4.4.1->widgetsnbextension~=3.6.6->ipywidgets<8.0.0,>=7.5.1->rich[jupyter]~=13.1.0->dagshub) (305.1)\n",
      "Requirement already satisfied: mistune<2,>=0.8.1 in c:\\users\\el_he\\anaconda3\\lib\\site-packages (from nbconvert>=5->notebook>=4.4.1->widgetsnbextension~=3.6.6->ipywidgets<8.0.0,>=7.5.1->rich[jupyter]~=13.1.0->dagshub) (0.8.4)\n",
      "Requirement already satisfied: jupyterlab-pygments in c:\\users\\el_he\\anaconda3\\lib\\site-packages (from nbconvert>=5->notebook>=4.4.1->widgetsnbextension~=3.6.6->ipywidgets<8.0.0,>=7.5.1->rich[jupyter]~=13.1.0->dagshub) (0.1.2)\n",
      "Requirement already satisfied: entrypoints>=0.2.2 in c:\\users\\el_he\\anaconda3\\lib\\site-packages (from nbconvert>=5->notebook>=4.4.1->widgetsnbextension~=3.6.6->ipywidgets<8.0.0,>=7.5.1->rich[jupyter]~=13.1.0->dagshub) (0.4)\n",
      "Requirement already satisfied: bleach in c:\\users\\el_he\\anaconda3\\lib\\site-packages (from nbconvert>=5->notebook>=4.4.1->widgetsnbextension~=3.6.6->ipywidgets<8.0.0,>=7.5.1->rich[jupyter]~=13.1.0->dagshub) (4.1.0)\n",
      "Requirement already satisfied: pandocfilters>=1.4.1 in c:\\users\\el_he\\anaconda3\\lib\\site-packages (from nbconvert>=5->notebook>=4.4.1->widgetsnbextension~=3.6.6->ipywidgets<8.0.0,>=7.5.1->rich[jupyter]~=13.1.0->dagshub) (1.5.0)\n",
      "Requirement already satisfied: testpath in c:\\users\\el_he\\anaconda3\\lib\\site-packages (from nbconvert>=5->notebook>=4.4.1->widgetsnbextension~=3.6.6->ipywidgets<8.0.0,>=7.5.1->rich[jupyter]~=13.1.0->dagshub) (0.6.0)\n",
      "Requirement already satisfied: defusedxml in c:\\users\\el_he\\anaconda3\\lib\\site-packages (from nbconvert>=5->notebook>=4.4.1->widgetsnbextension~=3.6.6->ipywidgets<8.0.0,>=7.5.1->rich[jupyter]~=13.1.0->dagshub) (0.7.1)\n",
      "Requirement already satisfied: beautifulsoup4 in c:\\users\\el_he\\anaconda3\\lib\\site-packages (from nbconvert>=5->notebook>=4.4.1->widgetsnbextension~=3.6.6->ipywidgets<8.0.0,>=7.5.1->rich[jupyter]~=13.1.0->dagshub) (4.12.2)\n",
      "Requirement already satisfied: nbclient<0.6.0,>=0.5.0 in c:\\users\\el_he\\anaconda3\\lib\\site-packages (from nbconvert>=5->notebook>=4.4.1->widgetsnbextension~=3.6.6->ipywidgets<8.0.0,>=7.5.1->rich[jupyter]~=13.1.0->dagshub) (0.5.13)\n",
      "Requirement already satisfied: MarkupSafe>=2.0 in c:\\users\\el_he\\anaconda3\\lib\\site-packages (from jinja2->notebook>=4.4.1->widgetsnbextension~=3.6.6->ipywidgets<8.0.0,>=7.5.1->rich[jupyter]~=13.1.0->dagshub) (2.0.1)\n",
      "Requirement already satisfied: fastjsonschema in c:\\users\\el_he\\anaconda3\\lib\\site-packages (from nbformat->notebook>=4.4.1->widgetsnbextension~=3.6.6->ipywidgets<8.0.0,>=7.5.1->rich[jupyter]~=13.1.0->dagshub) (2.16.2)\n",
      "Requirement already satisfied: jsonschema>=2.6 in c:\\users\\el_he\\anaconda3\\lib\\site-packages (from nbformat->notebook>=4.4.1->widgetsnbextension~=3.6.6->ipywidgets<8.0.0,>=7.5.1->rich[jupyter]~=13.1.0->dagshub) (4.17.3)\n",
      "Requirement already satisfied: pywinpty>=1.1.0 in c:\\users\\el_he\\anaconda3\\lib\\site-packages (from terminado>=0.8.3->notebook>=4.4.1->widgetsnbextension~=3.6.6->ipywidgets<8.0.0,>=7.5.1->rich[jupyter]~=13.1.0->dagshub) (2.0.10)\n",
      "Requirement already satisfied: argon2-cffi-bindings in c:\\users\\el_he\\anaconda3\\lib\\site-packages (from argon2-cffi->notebook>=4.4.1->widgetsnbextension~=3.6.6->ipywidgets<8.0.0,>=7.5.1->rich[jupyter]~=13.1.0->dagshub) (21.2.0)\n",
      "Requirement already satisfied: debugpy>=1.6.5 in c:\\users\\el_he\\anaconda3\\lib\\site-packages (from ipykernel->notebook>=4.4.1->widgetsnbextension~=3.6.6->ipywidgets<8.0.0,>=7.5.1->rich[jupyter]~=13.1.0->dagshub) (1.6.7)\n",
      "Requirement already satisfied: psutil in c:\\users\\el_he\\anaconda3\\lib\\site-packages (from ipykernel->notebook>=4.4.1->widgetsnbextension~=3.6.6->ipywidgets<8.0.0,>=7.5.1->rich[jupyter]~=13.1.0->dagshub) (5.9.0)\n",
      "Requirement already satisfied: zipp>=0.5 in c:\\users\\el_he\\anaconda3\\lib\\site-packages (from importlib-metadata>=4.8.3->jupyter-client>=5.3.4->notebook>=4.4.1->widgetsnbextension~=3.6.6->ipywidgets<8.0.0,>=7.5.1->rich[jupyter]~=13.1.0->dagshub) (3.11.0)\n",
      "Requirement already satisfied: attrs>=17.4.0 in c:\\users\\el_he\\anaconda3\\lib\\site-packages (from jsonschema>=2.6->nbformat->notebook>=4.4.1->widgetsnbextension~=3.6.6->ipywidgets<8.0.0,>=7.5.1->rich[jupyter]~=13.1.0->dagshub) (22.1.0)\n",
      "Requirement already satisfied: pyrsistent!=0.17.0,!=0.17.1,!=0.17.2,>=0.14.0 in c:\\users\\el_he\\anaconda3\\lib\\site-packages (from jsonschema>=2.6->nbformat->notebook>=4.4.1->widgetsnbextension~=3.6.6->ipywidgets<8.0.0,>=7.5.1->rich[jupyter]~=13.1.0->dagshub) (0.18.0)\n",
      "Requirement already satisfied: cffi>=1.0.1 in c:\\users\\el_he\\anaconda3\\lib\\site-packages (from argon2-cffi-bindings->argon2-cffi->notebook>=4.4.1->widgetsnbextension~=3.6.6->ipywidgets<8.0.0,>=7.5.1->rich[jupyter]~=13.1.0->dagshub) (1.15.1)\n",
      "Requirement already satisfied: soupsieve>1.2 in c:\\users\\el_he\\anaconda3\\lib\\site-packages (from beautifulsoup4->nbconvert>=5->notebook>=4.4.1->widgetsnbextension~=3.6.6->ipywidgets<8.0.0,>=7.5.1->rich[jupyter]~=13.1.0->dagshub) (2.4)\n",
      "Requirement already satisfied: webencodings in c:\\users\\el_he\\anaconda3\\lib\\site-packages (from bleach->nbconvert>=5->notebook>=4.4.1->widgetsnbextension~=3.6.6->ipywidgets<8.0.0,>=7.5.1->rich[jupyter]~=13.1.0->dagshub) (0.5.1)\n",
      "Requirement already satisfied: pycparser in c:\\users\\el_he\\anaconda3\\lib\\site-packages (from cffi>=1.0.1->argon2-cffi-bindings->argon2-cffi->notebook>=4.4.1->widgetsnbextension~=3.6.6->ipywidgets<8.0.0,>=7.5.1->rich[jupyter]~=13.1.0->dagshub) (2.21)\n"
     ]
    }
   ],
   "source": [
    "!pip3 install dagshub --upgrade"
   ]
  },
  {
   "cell_type": "code",
   "execution_count": 10,
   "id": "61219387",
   "metadata": {},
   "outputs": [
    {
     "data": {
      "text/html": [
       "<pre style=\"white-space:pre;overflow-x:auto;line-height:normal;font-family:Menlo,'DejaVu Sans Mono',consolas,'Courier New',monospace\">Repository initialized!\n",
       "</pre>\n"
      ],
      "text/plain": [
       "Repository initialized!\n"
      ]
     },
     "metadata": {},
     "output_type": "display_data"
    }
   ],
   "source": [
    "dagshub.init(\"my-first-repo\", \"RZeusHerMun\", mlflow=True)"
   ]
  },
  {
   "cell_type": "code",
   "execution_count": 11,
   "id": "6ea4f2ec",
   "metadata": {},
   "outputs": [],
   "source": [
    "username = \"RZeusHerMun\"\n",
    "reponame = \"my-first-repo\"\n",
    "repowner = \"RZeusHerMun\"\n",
    "eta = 0.001"
   ]
  },
  {
   "cell_type": "code",
   "execution_count": 16,
   "id": "c9afaa3d",
   "metadata": {},
   "outputs": [
    {
     "name": "stdout",
     "output_type": "stream",
     "text": [
      "Password de Dagshub········\n"
     ]
    }
   ],
   "source": [
    "os.environ['MLFLOW_TRACKING_USERNAME'] = username\n",
    "os.environ['MLFLOW_TRACKING_PASSSWORD'] = getpass('Password de Dagshub')\n"
   ]
  },
  {
   "cell_type": "code",
   "execution_count": 17,
   "id": "6d57c2a4",
   "metadata": {},
   "outputs": [],
   "source": [
    "mlflow.tensorflow.autolog()"
   ]
  },
  {
   "cell_type": "code",
   "execution_count": 18,
   "id": "a854d38b",
   "metadata": {},
   "outputs": [
    {
     "name": "stdout",
     "output_type": "stream",
     "text": [
      "Model: \"sequential\"\n",
      "_________________________________________________________________\n",
      " Layer (type)                Output Shape              Param #   \n",
      "=================================================================\n",
      " flatten (Flatten)           (None, 784)               0         \n",
      "                                                                 \n",
      " dense (Dense)               (None, 512)               401920    \n",
      "                                                                 \n",
      " dense_1 (Dense)             (None, 512)               262656    \n",
      "                                                                 \n",
      " dropout (Dropout)           (None, 512)               0         \n",
      "                                                                 \n",
      " dense_2 (Dense)             (None, 200)               102600    \n",
      "                                                                 \n",
      " activation (Activation)     (None, 200)               0         \n",
      "                                                                 \n",
      " dense_3 (Dense)             (None, 400)               80400     \n",
      "                                                                 \n",
      " dense_4 (Dense)             (None, 200)               80200     \n",
      "                                                                 \n",
      " dense_5 (Dense)             (None, 50)                10050     \n",
      "                                                                 \n",
      " dense_6 (Dense)             (None, 10)                510       \n",
      "                                                                 \n",
      "=================================================================\n",
      "Total params: 938336 (3.58 MB)\n",
      "Trainable params: 938336 (3.58 MB)\n",
      "Non-trainable params: 0 (0.00 Byte)\n",
      "_________________________________________________________________\n"
     ]
    }
   ],
   "source": [
    "model = Sequential()\n",
    "model.add(Input(shape=(28,28)))\n",
    "model.add(Flatten()) \n",
    "model.add(Dense(512, activation='sigmoid'))\n",
    "model.add(Dense(512, activation='relu', kernel_regularizer=regularizers.L1L2(l1=1e-5, l2=1e-4))) #Regularizacion L1L2\n",
    "model.add(Dropout(0.2)) #Fraccion de enlaces a eliminar\n",
    "model.add(Dense(200)) #Capa lineal , transformacion lineal sin funcion de activacion\n",
    "model.add(Activation('tanh')) #Se puede agregar despues la funcion de activacion\n",
    "model.add(Dense(400, activation='selu', kernel_regularizer=regularizers.L1(0.01) )) #Regularizacion L1\n",
    "model.add(Dense(200, activation='elu', kernel_regularizer=regularizers.L2(l2=1e-4)) ) #Regularizacion L2\n",
    "model.add(Dense(50,activation='exponential'))\n",
    "model.add(Dense(10, activation='softmax'))\n",
    "\n",
    "model.summary()"
   ]
  },
  {
   "cell_type": "code",
   "execution_count": 19,
   "id": "8538542c",
   "metadata": {},
   "outputs": [],
   "source": [
    "earlystop = EarlyStopping(monitor='val_loss',mode='min',restore_best_weights=True, patience=10,verbose=1)\n",
    "filepath = \"primer_modelo\"\n",
    "checkpoint = ModelCheckpoint(filepath, monitor='val_loss', verbose=1, save_best_only=True, mode='min')"
   ]
  },
  {
   "cell_type": "code",
   "execution_count": 20,
   "id": "6adfba14",
   "metadata": {},
   "outputs": [],
   "source": [
    "dataset=mnist.load_data()\n",
    "(x_train, y_train), (x_test, y_test) = dataset\n",
    "\n",
    "x_train = x_train.astype('float32')\n",
    "x_test = x_test.astype('float32')\n",
    "\n",
    "x_train /= 255  \n",
    "x_test /= 255\n",
    "\n",
    "num_classes=10\n",
    "y_trainc = keras.utils.to_categorical(y_train, num_classes)\n",
    "y_testc = keras.utils.to_categorical(y_test, num_classes)"
   ]
  },
  {
   "cell_type": "code",
   "execution_count": 21,
   "id": "f41ee67b",
   "metadata": {},
   "outputs": [
    {
     "name": "stderr",
     "output_type": "stream",
     "text": [
      "2023/10/02 21:58:08 INFO mlflow.tracking.fluent: Experiment with name 'Experiment 1' does not exist. Creating a new experiment.\n"
     ]
    },
    {
     "data": {
      "text/plain": [
       "<Experiment: artifact_location='mlflow-artifacts:/b33ed6c8e47b4bff832bf04b4f986c63', creation_time=1696305488274, experiment_id='0', last_update_time=1696305488274, lifecycle_stage='active', name='Experiment 1', tags={}>"
      ]
     },
     "execution_count": 21,
     "metadata": {},
     "output_type": "execute_result"
    }
   ],
   "source": [
    "mlflow.set_experiment(experiment_name=\"Experiment 1\")"
   ]
  },
  {
   "cell_type": "code",
   "execution_count": 23,
   "id": "eab1753c",
   "metadata": {},
   "outputs": [
    {
     "name": "stderr",
     "output_type": "stream",
     "text": [
      "WARNING:urllib3.connectionpool:Retrying (Retry(total=4, connect=5, read=4, redirect=5, status=5)) after connection broken by 'ProtocolError('Connection aborted.', ConnectionResetError(10054, 'Se ha forzado la interrupción de una conexión existente por el host remoto', None, 10054, None))': /RZeusHerMun/my-first-repo.mlflow/api/2.0/mlflow/runs/create\n"
     ]
    },
    {
     "name": "stdout",
     "output_type": "stream",
     "text": [
      "Epoch 1/5\n",
      "467/469 [============================>.] - ETA: 0s - loss: 0.3380 - accuracy: 0.9689\n",
      "Epoch 1: val_loss improved from 0.36065 to 0.31435, saving model to primer_modelo\n",
      "INFO:tensorflow:Assets written to: primer_modelo\\assets\n"
     ]
    },
    {
     "name": "stderr",
     "output_type": "stream",
     "text": [
      "INFO:tensorflow:Assets written to: primer_modelo\\assets\n"
     ]
    },
    {
     "name": "stdout",
     "output_type": "stream",
     "text": [
      "469/469 [==============================] - 16s 30ms/step - loss: 0.3377 - accuracy: 0.9689 - val_loss: 0.3144 - val_accuracy: 0.9676\n",
      "Epoch 2/5\n",
      "467/469 [============================>.] - ETA: 0s - loss: 0.2809 - accuracy: 0.9740\n",
      "Epoch 2: val_loss improved from 0.31435 to 0.28951, saving model to primer_modelo\n",
      "INFO:tensorflow:Assets written to: primer_modelo\\assets\n"
     ]
    },
    {
     "name": "stderr",
     "output_type": "stream",
     "text": [
      "INFO:tensorflow:Assets written to: primer_modelo\\assets\n"
     ]
    },
    {
     "name": "stdout",
     "output_type": "stream",
     "text": [
      "469/469 [==============================] - 14s 29ms/step - loss: 0.2809 - accuracy: 0.9740 - val_loss: 0.2895 - val_accuracy: 0.9710\n",
      "Epoch 3/5\n",
      "468/469 [============================>.] - ETA: 0s - loss: 0.2541 - accuracy: 0.9792\n",
      "Epoch 3: val_loss improved from 0.28951 to 0.25192, saving model to primer_modelo\n",
      "INFO:tensorflow:Assets written to: primer_modelo\\assets\n"
     ]
    },
    {
     "name": "stderr",
     "output_type": "stream",
     "text": [
      "INFO:tensorflow:Assets written to: primer_modelo\\assets\n"
     ]
    },
    {
     "name": "stdout",
     "output_type": "stream",
     "text": [
      "469/469 [==============================] - 14s 30ms/step - loss: 0.2540 - accuracy: 0.9792 - val_loss: 0.2519 - val_accuracy: 0.9782\n",
      "Epoch 4/5\n",
      "467/469 [============================>.] - ETA: 0s - loss: 0.2396 - accuracy: 0.9808\n",
      "Epoch 4: val_loss did not improve from 0.25192\n",
      "469/469 [==============================] - 14s 30ms/step - loss: 0.2394 - accuracy: 0.9808 - val_loss: 0.2576 - val_accuracy: 0.9746\n",
      "Epoch 5/5\n",
      "469/469 [==============================] - ETA: 0s - loss: 0.2221 - accuracy: 0.9843\n",
      "Epoch 5: val_loss improved from 0.25192 to 0.24475, saving model to primer_modelo\n",
      "INFO:tensorflow:Assets written to: primer_modelo\\assets\n"
     ]
    },
    {
     "name": "stderr",
     "output_type": "stream",
     "text": [
      "INFO:tensorflow:Assets written to: primer_modelo\\assets\n"
     ]
    },
    {
     "name": "stdout",
     "output_type": "stream",
     "text": [
      "469/469 [==============================] - 16s 34ms/step - loss: 0.2221 - accuracy: 0.9843 - val_loss: 0.2448 - val_accuracy: 0.9782\n",
      "1/1 [==============================] - 0s 90ms/step\n",
      "INFO:tensorflow:Assets written to: C:\\Users\\el_he\\AppData\\Local\\Temp\\tmpgcw022cs\\model\\data\\model\\assets\n"
     ]
    },
    {
     "name": "stderr",
     "output_type": "stream",
     "text": [
      "INFO:tensorflow:Assets written to: C:\\Users\\el_he\\AppData\\Local\\Temp\\tmpgcw022cs\\model\\data\\model\\assets\n",
      "2023/10/02 22:09:07 WARNING mlflow.tensorflow: You are saving a TensorFlow Core model or Keras model without a signature. Inference with mlflow.pyfunc.spark_udf() will not work unless the model's pyfunc representation accepts pandas DataFrames as inference inputs.\n"
     ]
    },
    {
     "name": "stdout",
     "output_type": "stream",
     "text": [
      "INFO:tensorflow:Assets written to: C:\\Users\\el_he\\AppData\\Local\\Temp\\tmpjixlny1x\\model\\data\\model\\assets\n"
     ]
    },
    {
     "name": "stderr",
     "output_type": "stream",
     "text": [
      "INFO:tensorflow:Assets written to: C:\\Users\\el_he\\AppData\\Local\\Temp\\tmpjixlny1x\\model\\data\\model\\assets\n"
     ]
    }
   ],
   "source": [
    "with mlflow.start_run(nested=True):\n",
    "  mlflow.log_param(\"Tasa_aprendizaje\", eta)\n",
    "\n",
    "  model.compile(loss=\"categorical_crossentropy\",optimizer=Adam(learning_rate=eta),metrics=['accuracy'])\n",
    "  historial = model.fit(x_train, y_trainc,\n",
    "                      batch_size=128,\n",
    "                      epochs=5,\n",
    "                      verbose=1,\n",
    "                      validation_data=(x_test, y_testc),\n",
    "                      callbacks=[earlystop, checkpoint])\n",
    "  \"\"\"mlflow.log_metric(\"loss\", historial.history[\"loss\"][-1])\n",
    "  mlflow.log_metric(\"loss_validation\", historial.history[\"val_loss\"][-1])\n",
    "  mlflow.log_metric(\"accuracy\", historial.history[\"accuracy\"][-1])\n",
    "  mlflow.log_metric(\"accuracy_validation\", historial.history[\"val_accuracy\"][-1])\"\"\"\n",
    "  loaded_model = tf.keras.models.load_model(\"primer_modelo\")\n",
    "  log_model(loaded_model, \"mejores_modelos\")\n",
    "mlflow.end_run()"
   ]
  },
  {
   "cell_type": "code",
   "execution_count": null,
   "id": "078d0869",
   "metadata": {},
   "outputs": [],
   "source": []
  }
 ],
 "metadata": {
  "kernelspec": {
   "display_name": "Python 3 (ipykernel)",
   "language": "python",
   "name": "python3"
  },
  "language_info": {
   "codemirror_mode": {
    "name": "ipython",
    "version": 3
   },
   "file_extension": ".py",
   "mimetype": "text/x-python",
   "name": "python",
   "nbconvert_exporter": "python",
   "pygments_lexer": "ipython3",
   "version": "3.9.13"
  }
 },
 "nbformat": 4,
 "nbformat_minor": 5
}
